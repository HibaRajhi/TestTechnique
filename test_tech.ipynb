{
 "cells": [
  {
   "cell_type": "code",
   "execution_count": 221,
   "metadata": {},
   "outputs": [],
   "source": [
    "import json"
   ]
  },
  {
   "cell_type": "code",
   "execution_count": 249,
   "metadata": {},
   "outputs": [],
   "source": [
    "#defining the auction\n",
    "auction={\n",
    "    \"domain\": \"geotrust.com\",\n",
    "    \"price\": 0.79,\n",
    "    \"category\": \"IAB2\"\n",
    "}"
   ]
  },
  {
   "cell_type": "code",
   "execution_count": 126,
   "metadata": {},
   "outputs": [],
   "source": [
    "def auction_winner_without_category(auction):\n",
    "    with open('buyers.json') as f: #read the json file of buyers\n",
    "        d = json.load(f)\n",
    "        max_prices=0 #initialize the max price as 0\n",
    "        for p in d['buyers']: #iterate in the key buyers \n",
    "            # For each bids\n",
    "            for i in p['bids']:\n",
    "                m=max(i['prices'])  #get the maximum price  \n",
    "                #compare the maximum price with auction price\n",
    "                if( m>auction['price']): \n",
    "                    if (m>max_prices):\n",
    "                        max_prices=m\n",
    "                        z=p['name'] #get the name of auction winner\n",
    "    return z,max_prices #return the auction winner with his price\n",
    "\n",
    "\n"
   ]
  },
  {
   "cell_type": "code",
   "execution_count": null,
   "metadata": {},
   "outputs": [],
   "source": []
  },
  {
   "cell_type": "code",
   "execution_count": 127,
   "metadata": {},
   "outputs": [
    {
     "data": {
      "text/plain": [
       "('yahoo', 1)"
      ]
     },
     "execution_count": 127,
     "metadata": {},
     "output_type": "execute_result"
    }
   ],
   "source": [
    "auction_winner_without_category(auction)"
   ]
  },
  {
   "cell_type": "code",
   "execution_count": 128,
   "metadata": {},
   "outputs": [],
   "source": [
    "def find_the_auction_winner_with_category(auction):\n",
    "    with open('buyers.json') as f:\n",
    "        d = json.load(f) #read the json file of buyers\n",
    "        max_prices=0 #initialize the max price as 0\n",
    "        #for each buyer\n",
    "        for p in d['buyers']:\n",
    "            #iterate in bids\n",
    "            for i in p['bids']:\n",
    "                #compare the auction category with category of buyer\n",
    "                if i['category']==auction['category']:\n",
    "                    #get the maximum price  \n",
    "                    m=max(i['prices'])          \n",
    "                    if( m>auction['price']):\n",
    "                        if (m>max_prices):\n",
    "                            max_prices=m #get the price of auction winner\n",
    "                            z=p['name'] #get the name of auction winner\n",
    "    return z,max_prices ##return the auction winner with  category associated to his price\n",
    "\n",
    "\n",
    "    "
   ]
  },
  {
   "cell_type": "code",
   "execution_count": 129,
   "metadata": {},
   "outputs": [
    {
     "data": {
      "text/plain": [
       "('exelator', 0.99)"
      ]
     },
     "execution_count": 129,
     "metadata": {},
     "output_type": "execute_result"
    }
   ],
   "source": [
    "find_the_auction_winner_with_category(auction)"
   ]
  },
  {
   "cell_type": "code",
   "execution_count": 219,
   "metadata": {},
   "outputs": [],
   "source": [
    "def effective_price(auction):\n",
    "    with open('buyers.json') as f:\n",
    "        d = json.load(f)#load  json file of buyers\n",
    "        liste=[] #initialize liste of prices\n",
    "        second=[] #initialize liste of prices with no duplicated\n",
    "        max_prices=0 #initialize maximum price as 0\n",
    "        #for each buyere\n",
    "        for p in d['buyers']:\n",
    "            for i in p['bids']:\n",
    "                #compare category\n",
    "                if i['category']==auction['category']:\n",
    "                    #append list of each buyer in the same list\n",
    "                    liste.extend((i['prices']))\n",
    "                    #remove duplicated in list \n",
    "                    second=set(liste)\n",
    "                    #sort the list to get the second higher price \n",
    "                    m=sorted(set(second))[-2]   \n",
    "                    if( m>auction['price']):\n",
    "                        if (m>max_prices):\n",
    "                            max_prices=m\n",
    "                            z=p['name']\n",
    "    return z,max_prices\n",
    "\n",
    "\n",
    "    "
   ]
  },
  {
   "cell_type": "code",
   "execution_count": 220,
   "metadata": {},
   "outputs": [
    {
     "data": {
      "text/plain": [
       "('adap', 0.97)"
      ]
     },
     "execution_count": 220,
     "metadata": {},
     "output_type": "execute_result"
    }
   ],
   "source": [
    "effective_price(auction)"
   ]
  },
  {
   "cell_type": "code",
   "execution_count": 247,
   "metadata": {},
   "outputs": [],
   "source": [
    "def interactive (auction):\n",
    "    with open('buyers.json') as f:\n",
    "        d = json.load(f)\n",
    "        liste=[]\n",
    "        second=[]\n",
    "        max_prices=0\n",
    "        for p in d['buyers']:\n",
    "            for i in p['bids']:\n",
    "                liste.extend((i['prices']))\n",
    "                second=set(liste)\n",
    "                m=sorted(set(second))[-2]        \n",
    "                if( m>auction['price']):\n",
    "                    if (m>max_prices):\n",
    "                        max_prices=m\n",
    "                        z=p['name']\n",
    "                        c=i['category']\n",
    "    return ('{\"results\": [',json.dumps({'name': z, 'effective_price': max_prices , 'category' : c}),']')\n",
    "\n",
    "\n"
   ]
  },
  {
   "cell_type": "code",
   "execution_count": 248,
   "metadata": {},
   "outputs": [
    {
     "data": {
      "text/plain": [
       "('{\"results\": [',\n",
       " '{\"name\": \"exelator\", \"effective_price\": 0.99, \"category\": \"IAB2\"}',\n",
       " ']')"
      ]
     },
     "execution_count": 248,
     "metadata": {},
     "output_type": "execute_result"
    }
   ],
   "source": [
    "interactive (auction)"
   ]
  }
 ],
 "metadata": {
  "kernelspec": {
   "display_name": "Python 3",
   "language": "python",
   "name": "python3"
  },
  "language_info": {
   "codemirror_mode": {
    "name": "ipython",
    "version": 3
   },
   "file_extension": ".py",
   "mimetype": "text/x-python",
   "name": "python",
   "nbconvert_exporter": "python",
   "pygments_lexer": "ipython3",
   "version": "3.6.8"
  }
 },
 "nbformat": 4,
 "nbformat_minor": 2
}
